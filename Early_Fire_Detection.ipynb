{
  "nbformat": 4,
  "nbformat_minor": 0,
  "metadata": {
    "colab": {
      "name": "Early-Fire-Detection.ipynb",
      "provenance": [],
      "mount_file_id": "1cp6sNC_SUGUQUQ2lmmMB9-ihF1PKcfcY",
      "authorship_tag": "ABX9TyM99BA0tBGk12J8eoLZWol4",
      "include_colab_link": true
    },
    "kernelspec": {
      "name": "python3",
      "display_name": "Python 3"
    },
    "language_info": {
      "name": "python"
    }
  },
  "cells": [
    {
      "cell_type": "markdown",
      "metadata": {
        "id": "view-in-github",
        "colab_type": "text"
      },
      "source": [
        "<a href=\"https://colab.research.google.com/github/arthpatel31/Fusion/blob/main/Early_Fire_Detection.ipynb\" target=\"_parent\"><img src=\"https://colab.research.google.com/assets/colab-badge.svg\" alt=\"Open In Colab\"/></a>"
      ]
    },
    {
      "cell_type": "code",
      "metadata": {
        "colab": {
          "base_uri": "https://localhost:8080/"
        },
        "id": "Ho_o0cCoxvCd",
        "outputId": "d4a8608a-4ded-4e8d-ebcc-50bb5e387657"
      },
      "source": [
        "%ls"
      ],
      "execution_count": null,
      "outputs": [
        {
          "output_type": "stream",
          "name": "stdout",
          "text": [
            "\u001b[0m\u001b[01;34mdrive\u001b[0m/  \u001b[01;34msample_data\u001b[0m/\n"
          ]
        }
      ]
    },
    {
      "cell_type": "code",
      "metadata": {
        "colab": {
          "base_uri": "https://localhost:8080/"
        },
        "id": "h90JNj4oxzOT",
        "outputId": "33aa0887-d521-4068-d2a6-b54d54f5c690"
      },
      "source": [
        "%cd drive/"
      ],
      "execution_count": null,
      "outputs": [
        {
          "output_type": "stream",
          "name": "stdout",
          "text": [
            "/content/drive\n"
          ]
        }
      ]
    },
    {
      "cell_type": "code",
      "metadata": {
        "colab": {
          "base_uri": "https://localhost:8080/"
        },
        "id": "afBoJbukx65-",
        "outputId": "c37dcf9e-24eb-413c-cd3c-ce3c6478a0b8"
      },
      "source": [
        "%cd MyDrive"
      ],
      "execution_count": null,
      "outputs": [
        {
          "output_type": "stream",
          "name": "stdout",
          "text": [
            "/content/drive/MyDrive\n"
          ]
        }
      ]
    },
    {
      "cell_type": "code",
      "metadata": {
        "colab": {
          "base_uri": "https://localhost:8080/"
        },
        "id": "U8BbutiSyFQz",
        "outputId": "3d95a4ee-3983-4fd4-df88-c90a2346b330"
      },
      "source": [
        "%cd fire-detection-master/"
      ],
      "execution_count": null,
      "outputs": [
        {
          "output_type": "stream",
          "name": "stdout",
          "text": [
            "/content/drive/MyDrive/fire-detection-master\n"
          ]
        }
      ]
    },
    {
      "cell_type": "code",
      "metadata": {
        "colab": {
          "base_uri": "https://localhost:8080/"
        },
        "id": "w3BPHcAZyKhY",
        "outputId": "32411bee-839d-4200-a5ed-21ad34c8e362"
      },
      "source": [
        "import tensorflow as tf\n",
        "import keras_preprocessing\n",
        "from keras_preprocessing import image\n",
        "from keras_preprocessing.image import ImageDataGenerator\n",
        "import shutil\n",
        "TRAINING_DIR = \"Training\"\n",
        "\n",
        "training_datagen = ImageDataGenerator(rescale = 1./255,\n",
        "                                      horizontal_flip=True,\n",
        "\t\t\t\t\t\t\t\t\t\t\t\t\t\t\t\t\t\t\trotation_range=30,\n",
        "\t\t\t\t\t\t\t\t\t\t\t\t\t\t\t\t\t\t\theight_shift_range=0.2,\n",
        "                                      fill_mode='nearest')\n",
        "\n",
        "VALIDATION_DIR = \"Validation\"\n",
        "validation_datagen = ImageDataGenerator(rescale = 1./255)\n",
        "\n",
        "train_generator = training_datagen.flow_from_directory(\n",
        "\tTRAINING_DIR,\n",
        "\ttarget_size=(224,224),\n",
        "\tclass_mode='categorical',\n",
        "  batch_size = 64\n",
        ")\n",
        "\n",
        "validation_generator = validation_datagen.flow_from_directory(\n",
        "\tVALIDATION_DIR,\n",
        "\ttarget_size=(224,224),\n",
        "\tclass_mode='categorical',\n",
        "  batch_size= 16\n",
        ")"
      ],
      "execution_count": null,
      "outputs": [
        {
          "output_type": "stream",
          "name": "stdout",
          "text": [
            "Found 980 images belonging to 2 classes.\n",
            "Found 239 images belonging to 2 classes.\n"
          ]
        }
      ]
    },
    {
      "cell_type": "code",
      "metadata": {
        "colab": {
          "base_uri": "https://localhost:8080/"
        },
        "id": "5wHE3geOyR6N",
        "outputId": "da470698-565b-404e-ffd3-1c724eb53b77"
      },
      "source": [
        "from tensorflow.keras.optimizers import RMSprop,Adam\n",
        "model = tf.keras.models.Sequential([\n",
        "          tf.keras.layers.Conv2D(96, (11,11), strides=(4,4), activation='relu', input_shape=(224, 224, 3)),\n",
        "          tf.keras.layers.MaxPooling2D(pool_size = (3,3), strides=(2,2)),\n",
        "          tf.keras.layers.Conv2D(256, (5,5), activation='relu'),\n",
        "          tf.keras.layers.MaxPooling2D(pool_size = (3,3), strides=(2,2)),\n",
        "          tf.keras.layers.Conv2D(384, (5,5), activation='relu'),\n",
        "          tf.keras.layers.MaxPooling2D(pool_size = (3,3), strides=(2,2)),\n",
        "          tf.keras.layers.Flatten(),\n",
        "          tf.keras.layers.Dropout(0.2),\n",
        "          tf.keras.layers.Dense(2048, activation='relu'),\n",
        "          tf.keras.layers.Dropout(0.25),\n",
        "          tf.keras.layers.Dense(1024, activation='relu'),\n",
        "          tf.keras.layers.Dropout(0.2),\n",
        "          tf.keras.layers.Dense(2, activation='softmax')\n",
        "])\n",
        "model.compile(loss='categorical_crossentropy',\n",
        "              optimizer=Adam(lr=0.0001),\n",
        "              metrics=['acc'])\n",
        "model.summary()"
      ],
      "execution_count": null,
      "outputs": [
        {
          "output_type": "stream",
          "name": "stdout",
          "text": [
            "Model: \"sequential\"\n",
            "_________________________________________________________________\n",
            "Layer (type)                 Output Shape              Param #   \n",
            "=================================================================\n",
            "conv2d (Conv2D)              (None, 54, 54, 96)        34944     \n",
            "_________________________________________________________________\n",
            "max_pooling2d (MaxPooling2D) (None, 26, 26, 96)        0         \n",
            "_________________________________________________________________\n",
            "conv2d_1 (Conv2D)            (None, 22, 22, 256)       614656    \n",
            "_________________________________________________________________\n",
            "max_pooling2d_1 (MaxPooling2 (None, 10, 10, 256)       0         \n",
            "_________________________________________________________________\n",
            "conv2d_2 (Conv2D)            (None, 6, 6, 384)         2457984   \n",
            "_________________________________________________________________\n",
            "max_pooling2d_2 (MaxPooling2 (None, 2, 2, 384)         0         \n",
            "_________________________________________________________________\n",
            "flatten (Flatten)            (None, 1536)              0         \n",
            "_________________________________________________________________\n",
            "dropout (Dropout)            (None, 1536)              0         \n",
            "_________________________________________________________________\n",
            "dense (Dense)                (None, 2048)              3147776   \n",
            "_________________________________________________________________\n",
            "dropout_1 (Dropout)          (None, 2048)              0         \n",
            "_________________________________________________________________\n",
            "dense_1 (Dense)              (None, 1024)              2098176   \n",
            "_________________________________________________________________\n",
            "dropout_2 (Dropout)          (None, 1024)              0         \n",
            "_________________________________________________________________\n",
            "dense_2 (Dense)              (None, 2)                 2050      \n",
            "=================================================================\n",
            "Total params: 8,355,586\n",
            "Trainable params: 8,355,586\n",
            "Non-trainable params: 0\n",
            "_________________________________________________________________\n"
          ]
        },
        {
          "output_type": "stream",
          "name": "stderr",
          "text": [
            "/usr/local/lib/python3.7/dist-packages/keras/optimizer_v2/optimizer_v2.py:356: UserWarning: The `lr` argument is deprecated, use `learning_rate` instead.\n",
            "  \"The `lr` argument is deprecated, use `learning_rate` instead.\")\n"
          ]
        }
      ]
    },
    {
      "cell_type": "code",
      "metadata": {
        "colab": {
          "base_uri": "https://localhost:8080/"
        },
        "id": "Su7d1wqsyX4w",
        "outputId": "a19caa0c-ad42-49f1-debb-cd8df6392bf1"
      },
      "source": [
        "# class myCallback(tf.keras.callbacks.Callback):\n",
        "#   def on_epoch_end(self, epoch, logs={}):\n",
        "#     if(logs.get('val_acc')>=0.98):\n",
        "#       print('\\nReached ^98%')\n",
        "#       self.model.stop_training = True\n",
        "# callbacks = myCallback()\n",
        "\n",
        "history = model.fit(\n",
        "    train_generator,\n",
        "    steps_per_epoch = 15,\n",
        "    epochs = 50,\n",
        "    validation_data = validation_generator,\n",
        "    validation_steps = 15\n",
        "    #callbacks=[callbacks]\n",
        ")"
      ],
      "execution_count": null,
      "outputs": [
        {
          "output_type": "stream",
          "name": "stdout",
          "text": [
            "Epoch 1/50\n",
            "15/15 [==============================] - 323s 21s/step - loss: 0.5395 - acc: 0.7172 - val_loss: 0.3628 - val_acc: 0.8703\n",
            "Epoch 2/50\n",
            "15/15 [==============================] - 109s 8s/step - loss: 0.3376 - acc: 0.8548 - val_loss: 0.2566 - val_acc: 0.9205\n",
            "Epoch 3/50\n",
            "15/15 [==============================] - 111s 7s/step - loss: 0.2851 - acc: 0.8854 - val_loss: 0.2419 - val_acc: 0.9079\n",
            "Epoch 4/50\n",
            "15/15 [==============================] - 109s 7s/step - loss: 0.2483 - acc: 0.9061 - val_loss: 0.2229 - val_acc: 0.9331\n",
            "Epoch 5/50\n",
            "15/15 [==============================] - 111s 7s/step - loss: 0.2440 - acc: 0.9072 - val_loss: 0.2100 - val_acc: 0.9331\n",
            "Epoch 6/50\n",
            "15/15 [==============================] - 109s 7s/step - loss: 0.2247 - acc: 0.9181 - val_loss: 0.2619 - val_acc: 0.9079\n",
            "Epoch 7/50\n",
            "15/15 [==============================] - 113s 7s/step - loss: 0.2290 - acc: 0.9138 - val_loss: 0.2416 - val_acc: 0.9247\n",
            "Epoch 8/50\n",
            "15/15 [==============================] - 113s 7s/step - loss: 0.2221 - acc: 0.9138 - val_loss: 0.2103 - val_acc: 0.9331\n",
            "Epoch 9/50\n",
            "15/15 [==============================] - 113s 7s/step - loss: 0.2193 - acc: 0.9170 - val_loss: 0.3205 - val_acc: 0.9038\n",
            "Epoch 10/50\n",
            "15/15 [==============================] - 117s 8s/step - loss: 0.2465 - acc: 0.9028 - val_loss: 0.2136 - val_acc: 0.9289\n",
            "Epoch 11/50\n",
            "15/15 [==============================] - 112s 7s/step - loss: 0.2410 - acc: 0.9167 - val_loss: 0.2056 - val_acc: 0.9247\n",
            "Epoch 12/50\n",
            "15/15 [==============================] - 109s 7s/step - loss: 0.2102 - acc: 0.9203 - val_loss: 0.1985 - val_acc: 0.9372\n",
            "Epoch 13/50\n",
            "15/15 [==============================] - 109s 7s/step - loss: 0.2149 - acc: 0.9170 - val_loss: 0.2264 - val_acc: 0.9372\n",
            "Epoch 14/50\n",
            "15/15 [==============================] - 107s 7s/step - loss: 0.1884 - acc: 0.9421 - val_loss: 0.2318 - val_acc: 0.9289\n",
            "Epoch 15/50\n",
            "15/15 [==============================] - 107s 7s/step - loss: 0.1898 - acc: 0.9378 - val_loss: 0.2007 - val_acc: 0.9414\n",
            "Epoch 16/50\n",
            "15/15 [==============================] - 108s 7s/step - loss: 0.1748 - acc: 0.9421 - val_loss: 0.1884 - val_acc: 0.9331\n",
            "Epoch 17/50\n",
            "15/15 [==============================] - 107s 7s/step - loss: 0.1474 - acc: 0.9465 - val_loss: 0.2151 - val_acc: 0.9289\n",
            "Epoch 18/50\n",
            "15/15 [==============================] - 106s 7s/step - loss: 0.1450 - acc: 0.9487 - val_loss: 0.1715 - val_acc: 0.9414\n",
            "Epoch 19/50\n",
            "15/15 [==============================] - 107s 7s/step - loss: 0.1532 - acc: 0.9574 - val_loss: 0.1693 - val_acc: 0.9456\n",
            "Epoch 20/50\n",
            "15/15 [==============================] - 110s 7s/step - loss: 0.1518 - acc: 0.9427 - val_loss: 0.1691 - val_acc: 0.9414\n",
            "Epoch 21/50\n",
            "15/15 [==============================] - 105s 7s/step - loss: 0.1355 - acc: 0.9552 - val_loss: 0.1569 - val_acc: 0.9456\n",
            "Epoch 22/50\n",
            "15/15 [==============================] - 107s 7s/step - loss: 0.1416 - acc: 0.9541 - val_loss: 0.1475 - val_acc: 0.9372\n",
            "Epoch 23/50\n",
            "15/15 [==============================] - 107s 7s/step - loss: 0.1461 - acc: 0.9531 - val_loss: 0.1420 - val_acc: 0.9414\n",
            "Epoch 24/50\n",
            "15/15 [==============================] - 109s 7s/step - loss: 0.1232 - acc: 0.9552 - val_loss: 0.1584 - val_acc: 0.9456\n",
            "Epoch 25/50\n",
            "15/15 [==============================] - 107s 7s/step - loss: 0.1345 - acc: 0.9574 - val_loss: 0.1618 - val_acc: 0.9372\n",
            "Epoch 26/50\n",
            "15/15 [==============================] - 106s 7s/step - loss: 0.1448 - acc: 0.9421 - val_loss: 0.1664 - val_acc: 0.9456\n",
            "Epoch 27/50\n",
            "15/15 [==============================] - 106s 7s/step - loss: 0.1489 - acc: 0.9476 - val_loss: 0.2310 - val_acc: 0.9163\n",
            "Epoch 28/50\n",
            "15/15 [==============================] - 105s 7s/step - loss: 0.1736 - acc: 0.9323 - val_loss: 0.1573 - val_acc: 0.9456\n",
            "Epoch 29/50\n",
            "15/15 [==============================] - 105s 7s/step - loss: 0.1391 - acc: 0.9476 - val_loss: 0.1513 - val_acc: 0.9498\n",
            "Epoch 30/50\n",
            "15/15 [==============================] - 109s 7s/step - loss: 0.1502 - acc: 0.9465 - val_loss: 0.1336 - val_acc: 0.9498\n",
            "Epoch 31/50\n",
            "15/15 [==============================] - 106s 7s/step - loss: 0.1564 - acc: 0.9432 - val_loss: 0.1495 - val_acc: 0.9456\n",
            "Epoch 32/50\n",
            "15/15 [==============================] - 105s 7s/step - loss: 0.1211 - acc: 0.9552 - val_loss: 0.1508 - val_acc: 0.9456\n",
            "Epoch 33/50\n",
            "15/15 [==============================] - 104s 7s/step - loss: 0.1256 - acc: 0.9552 - val_loss: 0.1401 - val_acc: 0.9456\n",
            "Epoch 34/50\n",
            "15/15 [==============================] - 103s 7s/step - loss: 0.1418 - acc: 0.9509 - val_loss: 0.1636 - val_acc: 0.9540\n",
            "Epoch 35/50\n",
            "15/15 [==============================] - 103s 7s/step - loss: 0.1151 - acc: 0.9596 - val_loss: 0.1546 - val_acc: 0.9456\n",
            "Epoch 36/50\n",
            "15/15 [==============================] - 103s 7s/step - loss: 0.1123 - acc: 0.9618 - val_loss: 0.1380 - val_acc: 0.9540\n",
            "Epoch 37/50\n",
            "15/15 [==============================] - 104s 7s/step - loss: 0.0954 - acc: 0.9683 - val_loss: 0.1752 - val_acc: 0.9414\n",
            "Epoch 38/50\n",
            "15/15 [==============================] - 104s 7s/step - loss: 0.1037 - acc: 0.9662 - val_loss: 0.1389 - val_acc: 0.9456\n",
            "Epoch 39/50\n",
            "15/15 [==============================] - 106s 7s/step - loss: 0.1384 - acc: 0.9454 - val_loss: 0.1795 - val_acc: 0.9414\n",
            "Epoch 40/50\n",
            "15/15 [==============================] - 107s 7s/step - loss: 0.1043 - acc: 0.9640 - val_loss: 0.1568 - val_acc: 0.9498\n",
            "Epoch 41/50\n",
            "15/15 [==============================] - 107s 7s/step - loss: 0.1005 - acc: 0.9662 - val_loss: 0.1365 - val_acc: 0.9582\n",
            "Epoch 42/50\n",
            "15/15 [==============================] - 106s 7s/step - loss: 0.1085 - acc: 0.9640 - val_loss: 0.1558 - val_acc: 0.9372\n",
            "Epoch 43/50\n",
            "15/15 [==============================] - 105s 7s/step - loss: 0.1066 - acc: 0.9629 - val_loss: 0.1508 - val_acc: 0.9540\n",
            "Epoch 44/50\n",
            "15/15 [==============================] - 105s 7s/step - loss: 0.1051 - acc: 0.9694 - val_loss: 0.2299 - val_acc: 0.9372\n",
            "Epoch 45/50\n",
            "15/15 [==============================] - 105s 7s/step - loss: 0.1061 - acc: 0.9662 - val_loss: 0.1311 - val_acc: 0.9540\n",
            "Epoch 46/50\n",
            "15/15 [==============================] - 104s 7s/step - loss: 0.0761 - acc: 0.9793 - val_loss: 0.1717 - val_acc: 0.9456\n",
            "Epoch 47/50\n",
            "15/15 [==============================] - 105s 7s/step - loss: 0.0976 - acc: 0.9694 - val_loss: 0.1888 - val_acc: 0.9414\n",
            "Epoch 48/50\n",
            "15/15 [==============================] - 104s 7s/step - loss: 0.0970 - acc: 0.9694 - val_loss: 0.1468 - val_acc: 0.9498\n",
            "Epoch 49/50\n",
            "15/15 [==============================] - 104s 7s/step - loss: 0.0902 - acc: 0.9683 - val_loss: 0.1535 - val_acc: 0.9540\n",
            "Epoch 50/50\n",
            "15/15 [==============================] - 104s 7s/step - loss: 0.0858 - acc: 0.9694 - val_loss: 0.1426 - val_acc: 0.9582\n"
          ]
        }
      ]
    },
    {
      "cell_type": "code",
      "metadata": {
        "colab": {
          "base_uri": "https://localhost:8080/",
          "height": 578
        },
        "id": "ZwsAoIbSSyJs",
        "outputId": "fbacbb05-bca4-4a1d-efc8-b8f9b4d86b91"
      },
      "source": [
        "%matplotlib inline\n",
        "import matplotlib.pyplot as plt\n",
        "acc = history.history['acc']\n",
        "val_acc = history.history['val_acc']\n",
        "loss = history.history['loss']\n",
        "val_loss = history.history['val_loss']\n",
        "\n",
        "epochs = range(len(acc))\n",
        "\n",
        "plt.plot(epochs, acc, 'g', label='Training accuracy')\n",
        "plt.plot(epochs, val_acc, 'b', label='Validation accuracy')\n",
        "plt.title('Training and validation accuracy')\n",
        "plt.legend(loc=0)\n",
        "plt.figure()\n",
        "plt.show()\n",
        "\n",
        "plt.plot(epochs, loss, 'r', label='Training loss')\n",
        "plt.plot(epochs, val_loss, 'orange', label='Validation loss')\n",
        "plt.title('Training and validation loss')\n",
        "\n",
        "plt.legend(loc=0)\n",
        "plt.figure()\n",
        "plt.show()"
      ],
      "execution_count": null,
      "outputs": [
        {
          "output_type": "display_data",
          "data": {
            "image/png": "[encoded data removed]",
            "text/plain": [
              "<Figure size 432x288 with 1 Axes>"
            ]
          },
          "metadata": {
            "needs_background": "light"
          }
        },
        {
          "output_type": "display_data",
          "data": {
            "text/plain": [
              "<Figure size 432x288 with 0 Axes>"
            ]
          },
          "metadata": {}
        },
        {
          "output_type": "display_data",
          "data": {
            "image/png": "[encoded data removed]",
            "text/plain": [
              "<Figure size 432x288 with 1 Axes>"
            ]
          },
          "metadata": {
            "needs_background": "light"
          }
        },
        {
          "output_type": "display_data",
          "data": {
            "text/plain": [
              "<Figure size 432x288 with 0 Axes>"
            ]
          },
          "metadata": {}
        }
      ]
    },
    {
      "cell_type": "code",
      "metadata": {
        "colab": {
          "resources": {
            "http://localhost:8080/nbextensions/google.colab/files.js": {
              "data": "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",
              "ok": true,
              "headers": [
                [
                  "content-type",
                  "application/javascript"
                ]
              ],
              "status": 200,
              "status_text": ""
            }
          },
          "base_uri": "https://localhost:8080/",
          "height": 291
        },
        "id": "b7UOPh3iS1Tg",
        "outputId": "e9b1d2a9-d342-42d0-a932-d35bf7dc22b1"
      },
      "source": [
        "#predicting any random image\n",
        "import numpy as np\n",
        "from google.colab import files\n",
        "from keras.preprocessing import image\n",
        "\n",
        "uploaded = files.upload()\n",
        "for fn in uploaded.keys():\n",
        "  path = '/content/drive/MyDrive/Early-Fire-Detection/' + fn\n",
        "  img = image.load_img(path, target_size=(224, 224))\n",
        "  x = image.img_to_array(img)\n",
        "  x = np.expand_dims(x, axis=0) /255\n",
        "  classes = model.predict(x)\n",
        "  print(np.argmax(classes[0])==0, max(classes[0]))"
      ],
      "execution_count": null,
      "outputs": [
        {
          "output_type": "display_data",
          "data": {
            "text/html": [
              "\n",
              "     <input type=\"file\" id=\"files-56beb056-b0e3-4190-bd54-334bdd88d647\" name=\"files[]\" multiple disabled\n",
              "        style=\"border:none\" />\n",
              "     <output id=\"result-56beb056-b0e3-4190-bd54-334bdd88d647\">\n",
              "      Upload widget is only available when the cell has been executed in the\n",
              "      current browser session. Please rerun this cell to enable.\n",
              "      </output>\n",
              "      <script src=\"/nbextensions/google.colab/files.js\"></script> "
            ],
            "text/plain": [
              "<IPython.core.display.HTML object>"
            ]
          },
          "metadata": {}
        },
        {
          "output_type": "stream",
          "name": "stdout",
          "text": [
            "Saving fire1.jpg to fire1.jpg\n",
            "Saving fire2.jpg to fire2.jpg\n",
            "Saving fire3.jpg to fire3.jpg\n",
            "Saving nofire1.jpg to nofire1.jpg\n",
            "Saving nofire2.jpg to nofire2.jpg\n",
            "True 0.96141374\n",
            "True 0.9957129\n",
            "True 0.99945146\n",
            "False 0.9992944\n",
            "False 0.9722764\n"
          ]
        }
      ]
    }
  ]
}